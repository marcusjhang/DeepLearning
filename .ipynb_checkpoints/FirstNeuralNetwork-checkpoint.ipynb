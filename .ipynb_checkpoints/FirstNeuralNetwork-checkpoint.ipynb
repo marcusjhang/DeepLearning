{
 "cells": [
  {
   "cell_type": "code",
   "execution_count": null,
   "id": "196791f9-4478-48f7-b4af-3a4189549668",
   "metadata": {},
   "outputs": [],
   "source": [
    "import tensorflow as tf\n",
    "from tensorflow import keras\n",
    "import matplotlib.puplot as plt"
   ]
  },
  {
   "cell_type": "markdown",
   "id": "f076630e-78a5-4aec-a2c6-7705f83aa6cc",
   "metadata": {},
   "source": [
    "Keras is a higher level version of tensorflow, allowing you to build neural networks in a few lines of code as compared to tensorflow"
   ]
  }
 ],
 "metadata": {
  "kernelspec": {
   "display_name": "Python 3 (ipykernel)",
   "language": "python",
   "name": "python3"
  },
  "language_info": {
   "codemirror_mode": {
    "name": "ipython",
    "version": 3
   },
   "file_extension": ".py",
   "mimetype": "text/x-python",
   "name": "python",
   "nbconvert_exporter": "python",
   "pygments_lexer": "ipython3",
   "version": "3.12.3"
  }
 },
 "nbformat": 4,
 "nbformat_minor": 5
}
